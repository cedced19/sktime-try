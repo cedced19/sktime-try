{
 "cells": [
  {
   "cell_type": "markdown",
   "metadata": {},
   "source": [
    "# Test ResNet"
   ]
  },
  {
   "cell_type": "markdown",
   "metadata": {},
   "source": [
    "Use python v3.7.12 and sktime v0.4.1"
   ]
  },
  {
   "cell_type": "code",
   "execution_count": 2,
   "metadata": {},
   "outputs": [],
   "source": [
    "import numpy as np\n",
    "import pandas as pd\n",
    "import matplotlib.pyplot as plt\n",
    "import seaborn as sns\n",
    "\n",
    "from sklearn.model_selection import GridSearchCV\n",
    "from sktime.datasets import load_italy_power_demand\n",
    "from sktime_dl.deeplearning import CNNClassifier\n",
    "\n",
    "sns.set_style('whitegrid') "
   ]
  },
  {
   "cell_type": "markdown",
   "metadata": {},
   "source": [
    "## Grid Search"
   ]
  },
  {
   "cell_type": "code",
   "execution_count": 3,
   "metadata": {},
   "outputs": [],
   "source": [
    "X_train, y_train = load_italy_power_demand(split='train', return_X_y=True)\n",
    "X_test, y_test = load_italy_power_demand(split='test', return_X_y=True)"
   ]
  },
  {
   "cell_type": "code",
   "execution_count": 4,
   "metadata": {},
   "outputs": [
    {
     "data": {
      "text/html": [
       "<div>\n",
       "<style scoped>\n",
       "    .dataframe tbody tr th:only-of-type {\n",
       "        vertical-align: middle;\n",
       "    }\n",
       "\n",
       "    .dataframe tbody tr th {\n",
       "        vertical-align: top;\n",
       "    }\n",
       "\n",
       "    .dataframe thead th {\n",
       "        text-align: right;\n",
       "    }\n",
       "</style>\n",
       "<table border=\"1\" class=\"dataframe\">\n",
       "  <thead>\n",
       "    <tr style=\"text-align: right;\">\n",
       "      <th></th>\n",
       "      <th>dim_0</th>\n",
       "    </tr>\n",
       "  </thead>\n",
       "  <tbody>\n",
       "    <tr>\n",
       "      <th>0</th>\n",
       "      <td>0    -0.710520\n",
       "1    -1.183300\n",
       "2    -1.372400\n",
       "3...</td>\n",
       "    </tr>\n",
       "    <tr>\n",
       "      <th>1</th>\n",
       "      <td>0    -0.993010\n",
       "1    -1.426800\n",
       "2    -1.579900\n",
       "3...</td>\n",
       "    </tr>\n",
       "    <tr>\n",
       "      <th>2</th>\n",
       "      <td>0     1.319100\n",
       "1     0.569770\n",
       "2     0.195130\n",
       "3...</td>\n",
       "    </tr>\n",
       "    <tr>\n",
       "      <th>3</th>\n",
       "      <td>0    -0.812440\n",
       "1    -1.157600\n",
       "2    -1.416400\n",
       "3...</td>\n",
       "    </tr>\n",
       "    <tr>\n",
       "      <th>4</th>\n",
       "      <td>0    -0.972840\n",
       "1    -1.390500\n",
       "2    -1.536700\n",
       "3...</td>\n",
       "    </tr>\n",
       "  </tbody>\n",
       "</table>\n",
       "</div>"
      ],
      "text/plain": [
       "                                               dim_0\n",
       "0  0    -0.710520\n",
       "1    -1.183300\n",
       "2    -1.372400\n",
       "3...\n",
       "1  0    -0.993010\n",
       "1    -1.426800\n",
       "2    -1.579900\n",
       "3...\n",
       "2  0     1.319100\n",
       "1     0.569770\n",
       "2     0.195130\n",
       "3...\n",
       "3  0    -0.812440\n",
       "1    -1.157600\n",
       "2    -1.416400\n",
       "3...\n",
       "4  0    -0.972840\n",
       "1    -1.390500\n",
       "2    -1.536700\n",
       "3..."
      ]
     },
     "execution_count": 4,
     "metadata": {},
     "output_type": "execute_result"
    }
   ],
   "source": [
    "X_train.head()"
   ]
  },
  {
   "cell_type": "code",
   "execution_count": 5,
   "metadata": {},
   "outputs": [
    {
     "data": {
      "text/plain": [
       "array(['1', '1', '2', '2', '1', '1', '2', '1', '1', '2', '2', '1', '1',\n",
       "       '2', '1', '2', '1', '1', '2', '1', '1', '2', '1', '1', '1', '1',\n",
       "       '1', '2', '2', '1', '1', '2', '2', '1', '2', '2', '1', '2', '1',\n",
       "       '2', '1', '1', '2', '2', '1', '2', '2', '2', '2', '1', '1', '2',\n",
       "       '2', '2', '1', '2', '2', '1', '1', '2', '2', '1', '1', '2', '1',\n",
       "       '2', '2'], dtype='<U1')"
      ]
     },
     "execution_count": 5,
     "metadata": {},
     "output_type": "execute_result"
    }
   ],
   "source": [
    "y_train"
   ]
  },
  {
   "cell_type": "code",
   "execution_count": 6,
   "metadata": {},
   "outputs": [
    {
     "name": "stderr",
     "output_type": "stream",
     "text": [
      "2022-02-18 20:05:52.949815: W tensorflow/stream_executor/platform/default/dso_loader.cc:64] Could not load dynamic library 'libcuda.so.1'; dlerror: libcuda.so.1: cannot open shared object file: No such file or directory\n",
      "2022-02-18 20:05:52.949878: W tensorflow/stream_executor/cuda/cuda_driver.cc:269] failed call to cuInit: UNKNOWN ERROR (303)\n",
      "2022-02-18 20:05:52.949917: I tensorflow/stream_executor/cuda/cuda_diagnostics.cc:156] kernel driver does not appear to be running on this host (pced): /proc/driver/nvidia/version does not exist\n",
      "2022-02-18 20:05:52.951080: I tensorflow/core/platform/cpu_feature_guard.cc:151] This TensorFlow binary is optimized with oneAPI Deep Neural Network Library (oneDNN) to use the following CPU instructions in performance-critical operations:  AVX2 FMA\n",
      "To enable them in other operations, rebuild TensorFlow with the appropriate compiler flags.\n"
     ]
    },
    {
     "data": {
      "text/plain": [
       "0.8036929057337221"
      ]
     },
     "execution_count": 6,
     "metadata": {},
     "output_type": "execute_result"
    }
   ],
   "source": [
    "network = CNNClassifier(nb_epochs=200, verbose=False)\n",
    "network.fit(X_train, y_train)\n",
    "network.score(X_test, y_test)"
   ]
  },
  {
   "cell_type": "code",
   "execution_count": 7,
   "metadata": {},
   "outputs": [
    {
     "name": "stdout",
     "output_type": "stream",
     "text": [
      "WARNING:tensorflow:5 out of the last 37 calls to <function Model.make_predict_function.<locals>.predict_function at 0x7f5885547c20> triggered tf.function retracing. Tracing is expensive and the excessive number of tracings could be due to (1) creating @tf.function repeatedly in a loop, (2) passing tensors with different shapes, (3) passing Python objects instead of tensors. For (1), please define your @tf.function outside of the loop. For (2), @tf.function has experimental_relax_shapes=True option that relaxes argument shapes that can avoid unnecessary retracing. For (3), please refer to https://www.tensorflow.org/guide/function#controlling_retracing and https://www.tensorflow.org/api_docs/python/tf/function for  more details.\n",
      "WARNING:tensorflow:6 out of the last 38 calls to <function Model.make_predict_function.<locals>.predict_function at 0x7f58853baa70> triggered tf.function retracing. Tracing is expensive and the excessive number of tracings could be due to (1) creating @tf.function repeatedly in a loop, (2) passing tensors with different shapes, (3) passing Python objects instead of tensors. For (1), please define your @tf.function outside of the loop. For (2), @tf.function has experimental_relax_shapes=True option that relaxes argument shapes that can avoid unnecessary retracing. For (3), please refer to https://www.tensorflow.org/guide/function#controlling_retracing and https://www.tensorflow.org/api_docs/python/tf/function for  more details.\n"
     ]
    },
    {
     "name": "stderr",
     "output_type": "stream",
     "text": [
      "/home/cjung/.pyenv/versions/3.7.12/lib/python3.7/site-packages/sklearn/model_selection/_validation.py:372: FitFailedWarning: \n",
      "10 fits failed out of a total of 20.\n",
      "The score on these train-test partitions for these parameters will be set to nan.\n",
      "If these failures are not expected, you can try to debug them by setting error_score='raise'.\n",
      "\n",
      "Below are more details about the failures:\n",
      "--------------------------------------------------------------------------------\n",
      "1 fits failed with the following error:\n",
      "Traceback (most recent call last):\n",
      "  File \"/home/cjung/.pyenv/versions/3.7.12/lib/python3.7/site-packages/sklearn/model_selection/_validation.py\", line 680, in _fit_and_score\n",
      "    estimator.fit(X_train, y_train, **fit_params)\n",
      "  File \"/home/cjung/.pyenv/versions/3.7.12/lib/python3.7/site-packages/sktime_dl/deeplearning/cnn/_classifier.py\", line 144, in fit\n",
      "    self.model = self.build_model(self.input_shape, self.nb_classes)\n",
      "  File \"/home/cjung/.pyenv/versions/3.7.12/lib/python3.7/site-packages/sktime_dl/deeplearning/cnn/_classifier.py\", line 85, in build_model\n",
      "    input_layer, output_layer = self.build_network(input_shape, **kwargs)\n",
      "  File \"/home/cjung/.pyenv/versions/3.7.12/lib/python3.7/site-packages/sktime_dl/deeplearning/cnn/_base.py\", line 96, in build_network\n",
      "    conv\n",
      "  File \"/home/cjung/.pyenv/versions/3.7.12/lib/python3.7/site-packages/keras/utils/traceback_utils.py\", line 67, in error_handler\n",
      "    raise e.with_traceback(filtered_tb) from None\n",
      "  File \"/home/cjung/.pyenv/versions/3.7.12/lib/python3.7/site-packages/keras/backend.py\", line 6069, in pool2d\n",
      "    x, pool_size, strides, padding=padding, data_format=tf_data_format)\n",
      "ValueError: Exception encountered when calling layer \"average_pooling1d_23\" (type AveragePooling1D).\n",
      "\n",
      "Negative dimension size caused by subtracting 5 from 4 for '{{node average_pooling1d_23/AvgPool}} = AvgPool[T=DT_FLOAT, data_format=\"NHWC\", ksize=[1, 5, 1, 1], padding=\"VALID\", strides=[1, 5, 1, 1]](average_pooling1d_23/ExpandDims)' with input shapes: [?,4,1,12].\n",
      "\n",
      "Call arguments received:\n",
      "  • inputs=tf.Tensor(shape=(None, 4, 12), dtype=float32)\n",
      "\n",
      "--------------------------------------------------------------------------------\n",
      "1 fits failed with the following error:\n",
      "Traceback (most recent call last):\n",
      "  File \"/home/cjung/.pyenv/versions/3.7.12/lib/python3.7/site-packages/sklearn/model_selection/_validation.py\", line 680, in _fit_and_score\n",
      "    estimator.fit(X_train, y_train, **fit_params)\n",
      "  File \"/home/cjung/.pyenv/versions/3.7.12/lib/python3.7/site-packages/sktime_dl/deeplearning/cnn/_classifier.py\", line 144, in fit\n",
      "    self.model = self.build_model(self.input_shape, self.nb_classes)\n",
      "  File \"/home/cjung/.pyenv/versions/3.7.12/lib/python3.7/site-packages/sktime_dl/deeplearning/cnn/_classifier.py\", line 85, in build_model\n",
      "    input_layer, output_layer = self.build_network(input_shape, **kwargs)\n",
      "  File \"/home/cjung/.pyenv/versions/3.7.12/lib/python3.7/site-packages/sktime_dl/deeplearning/cnn/_base.py\", line 96, in build_network\n",
      "    conv\n",
      "  File \"/home/cjung/.pyenv/versions/3.7.12/lib/python3.7/site-packages/keras/utils/traceback_utils.py\", line 67, in error_handler\n",
      "    raise e.with_traceback(filtered_tb) from None\n",
      "  File \"/home/cjung/.pyenv/versions/3.7.12/lib/python3.7/site-packages/keras/backend.py\", line 6069, in pool2d\n",
      "    x, pool_size, strides, padding=padding, data_format=tf_data_format)\n",
      "ValueError: Exception encountered when calling layer \"average_pooling1d_25\" (type AveragePooling1D).\n",
      "\n",
      "Negative dimension size caused by subtracting 5 from 4 for '{{node average_pooling1d_25/AvgPool}} = AvgPool[T=DT_FLOAT, data_format=\"NHWC\", ksize=[1, 5, 1, 1], padding=\"VALID\", strides=[1, 5, 1, 1]](average_pooling1d_25/ExpandDims)' with input shapes: [?,4,1,12].\n",
      "\n",
      "Call arguments received:\n",
      "  • inputs=tf.Tensor(shape=(None, 4, 12), dtype=float32)\n",
      "\n",
      "--------------------------------------------------------------------------------\n",
      "1 fits failed with the following error:\n",
      "Traceback (most recent call last):\n",
      "  File \"/home/cjung/.pyenv/versions/3.7.12/lib/python3.7/site-packages/sklearn/model_selection/_validation.py\", line 680, in _fit_and_score\n",
      "    estimator.fit(X_train, y_train, **fit_params)\n",
      "  File \"/home/cjung/.pyenv/versions/3.7.12/lib/python3.7/site-packages/sktime_dl/deeplearning/cnn/_classifier.py\", line 144, in fit\n",
      "    self.model = self.build_model(self.input_shape, self.nb_classes)\n",
      "  File \"/home/cjung/.pyenv/versions/3.7.12/lib/python3.7/site-packages/sktime_dl/deeplearning/cnn/_classifier.py\", line 85, in build_model\n",
      "    input_layer, output_layer = self.build_network(input_shape, **kwargs)\n",
      "  File \"/home/cjung/.pyenv/versions/3.7.12/lib/python3.7/site-packages/sktime_dl/deeplearning/cnn/_base.py\", line 96, in build_network\n",
      "    conv\n",
      "  File \"/home/cjung/.pyenv/versions/3.7.12/lib/python3.7/site-packages/keras/utils/traceback_utils.py\", line 67, in error_handler\n",
      "    raise e.with_traceback(filtered_tb) from None\n",
      "  File \"/home/cjung/.pyenv/versions/3.7.12/lib/python3.7/site-packages/keras/backend.py\", line 6069, in pool2d\n",
      "    x, pool_size, strides, padding=padding, data_format=tf_data_format)\n",
      "ValueError: Exception encountered when calling layer \"average_pooling1d_27\" (type AveragePooling1D).\n",
      "\n",
      "Negative dimension size caused by subtracting 5 from 4 for '{{node average_pooling1d_27/AvgPool}} = AvgPool[T=DT_FLOAT, data_format=\"NHWC\", ksize=[1, 5, 1, 1], padding=\"VALID\", strides=[1, 5, 1, 1]](average_pooling1d_27/ExpandDims)' with input shapes: [?,4,1,12].\n",
      "\n",
      "Call arguments received:\n",
      "  • inputs=tf.Tensor(shape=(None, 4, 12), dtype=float32)\n",
      "\n",
      "--------------------------------------------------------------------------------\n",
      "1 fits failed with the following error:\n",
      "Traceback (most recent call last):\n",
      "  File \"/home/cjung/.pyenv/versions/3.7.12/lib/python3.7/site-packages/sklearn/model_selection/_validation.py\", line 680, in _fit_and_score\n",
      "    estimator.fit(X_train, y_train, **fit_params)\n",
      "  File \"/home/cjung/.pyenv/versions/3.7.12/lib/python3.7/site-packages/sktime_dl/deeplearning/cnn/_classifier.py\", line 144, in fit\n",
      "    self.model = self.build_model(self.input_shape, self.nb_classes)\n",
      "  File \"/home/cjung/.pyenv/versions/3.7.12/lib/python3.7/site-packages/sktime_dl/deeplearning/cnn/_classifier.py\", line 85, in build_model\n",
      "    input_layer, output_layer = self.build_network(input_shape, **kwargs)\n",
      "  File \"/home/cjung/.pyenv/versions/3.7.12/lib/python3.7/site-packages/sktime_dl/deeplearning/cnn/_base.py\", line 96, in build_network\n",
      "    conv\n",
      "  File \"/home/cjung/.pyenv/versions/3.7.12/lib/python3.7/site-packages/keras/utils/traceback_utils.py\", line 67, in error_handler\n",
      "    raise e.with_traceback(filtered_tb) from None\n",
      "  File \"/home/cjung/.pyenv/versions/3.7.12/lib/python3.7/site-packages/keras/backend.py\", line 6069, in pool2d\n",
      "    x, pool_size, strides, padding=padding, data_format=tf_data_format)\n",
      "ValueError: Exception encountered when calling layer \"average_pooling1d_29\" (type AveragePooling1D).\n",
      "\n",
      "Negative dimension size caused by subtracting 5 from 4 for '{{node average_pooling1d_29/AvgPool}} = AvgPool[T=DT_FLOAT, data_format=\"NHWC\", ksize=[1, 5, 1, 1], padding=\"VALID\", strides=[1, 5, 1, 1]](average_pooling1d_29/ExpandDims)' with input shapes: [?,4,1,12].\n",
      "\n",
      "Call arguments received:\n",
      "  • inputs=tf.Tensor(shape=(None, 4, 12), dtype=float32)\n",
      "\n",
      "--------------------------------------------------------------------------------\n",
      "1 fits failed with the following error:\n",
      "Traceback (most recent call last):\n",
      "  File \"/home/cjung/.pyenv/versions/3.7.12/lib/python3.7/site-packages/sklearn/model_selection/_validation.py\", line 680, in _fit_and_score\n",
      "    estimator.fit(X_train, y_train, **fit_params)\n",
      "  File \"/home/cjung/.pyenv/versions/3.7.12/lib/python3.7/site-packages/sktime_dl/deeplearning/cnn/_classifier.py\", line 144, in fit\n",
      "    self.model = self.build_model(self.input_shape, self.nb_classes)\n",
      "  File \"/home/cjung/.pyenv/versions/3.7.12/lib/python3.7/site-packages/sktime_dl/deeplearning/cnn/_classifier.py\", line 85, in build_model\n",
      "    input_layer, output_layer = self.build_network(input_shape, **kwargs)\n",
      "  File \"/home/cjung/.pyenv/versions/3.7.12/lib/python3.7/site-packages/sktime_dl/deeplearning/cnn/_base.py\", line 96, in build_network\n",
      "    conv\n",
      "  File \"/home/cjung/.pyenv/versions/3.7.12/lib/python3.7/site-packages/keras/utils/traceback_utils.py\", line 67, in error_handler\n",
      "    raise e.with_traceback(filtered_tb) from None\n",
      "  File \"/home/cjung/.pyenv/versions/3.7.12/lib/python3.7/site-packages/keras/backend.py\", line 6069, in pool2d\n",
      "    x, pool_size, strides, padding=padding, data_format=tf_data_format)\n",
      "ValueError: Exception encountered when calling layer \"average_pooling1d_31\" (type AveragePooling1D).\n",
      "\n",
      "Negative dimension size caused by subtracting 5 from 4 for '{{node average_pooling1d_31/AvgPool}} = AvgPool[T=DT_FLOAT, data_format=\"NHWC\", ksize=[1, 5, 1, 1], padding=\"VALID\", strides=[1, 5, 1, 1]](average_pooling1d_31/ExpandDims)' with input shapes: [?,4,1,12].\n",
      "\n",
      "Call arguments received:\n",
      "  • inputs=tf.Tensor(shape=(None, 4, 12), dtype=float32)\n",
      "\n",
      "--------------------------------------------------------------------------------\n",
      "1 fits failed with the following error:\n",
      "Traceback (most recent call last):\n",
      "  File \"/home/cjung/.pyenv/versions/3.7.12/lib/python3.7/site-packages/sklearn/model_selection/_validation.py\", line 680, in _fit_and_score\n",
      "    estimator.fit(X_train, y_train, **fit_params)\n",
      "  File \"/home/cjung/.pyenv/versions/3.7.12/lib/python3.7/site-packages/sktime_dl/deeplearning/cnn/_classifier.py\", line 144, in fit\n",
      "    self.model = self.build_model(self.input_shape, self.nb_classes)\n",
      "  File \"/home/cjung/.pyenv/versions/3.7.12/lib/python3.7/site-packages/sktime_dl/deeplearning/cnn/_classifier.py\", line 85, in build_model\n",
      "    input_layer, output_layer = self.build_network(input_shape, **kwargs)\n",
      "  File \"/home/cjung/.pyenv/versions/3.7.12/lib/python3.7/site-packages/sktime_dl/deeplearning/cnn/_base.py\", line 96, in build_network\n",
      "    conv\n",
      "  File \"/home/cjung/.pyenv/versions/3.7.12/lib/python3.7/site-packages/keras/utils/traceback_utils.py\", line 67, in error_handler\n",
      "    raise e.with_traceback(filtered_tb) from None\n",
      "  File \"/home/cjung/.pyenv/versions/3.7.12/lib/python3.7/site-packages/keras/backend.py\", line 6069, in pool2d\n",
      "    x, pool_size, strides, padding=padding, data_format=tf_data_format)\n",
      "ValueError: Exception encountered when calling layer \"average_pooling1d_33\" (type AveragePooling1D).\n",
      "\n",
      "Negative dimension size caused by subtracting 5 from 4 for '{{node average_pooling1d_33/AvgPool}} = AvgPool[T=DT_FLOAT, data_format=\"NHWC\", ksize=[1, 5, 1, 1], padding=\"VALID\", strides=[1, 5, 1, 1]](average_pooling1d_33/ExpandDims)' with input shapes: [?,4,1,12].\n",
      "\n",
      "Call arguments received:\n",
      "  • inputs=tf.Tensor(shape=(None, 4, 12), dtype=float32)\n",
      "\n",
      "--------------------------------------------------------------------------------\n",
      "1 fits failed with the following error:\n",
      "Traceback (most recent call last):\n",
      "  File \"/home/cjung/.pyenv/versions/3.7.12/lib/python3.7/site-packages/sklearn/model_selection/_validation.py\", line 680, in _fit_and_score\n",
      "    estimator.fit(X_train, y_train, **fit_params)\n",
      "  File \"/home/cjung/.pyenv/versions/3.7.12/lib/python3.7/site-packages/sktime_dl/deeplearning/cnn/_classifier.py\", line 144, in fit\n",
      "    self.model = self.build_model(self.input_shape, self.nb_classes)\n",
      "  File \"/home/cjung/.pyenv/versions/3.7.12/lib/python3.7/site-packages/sktime_dl/deeplearning/cnn/_classifier.py\", line 85, in build_model\n",
      "    input_layer, output_layer = self.build_network(input_shape, **kwargs)\n",
      "  File \"/home/cjung/.pyenv/versions/3.7.12/lib/python3.7/site-packages/sktime_dl/deeplearning/cnn/_base.py\", line 96, in build_network\n",
      "    conv\n",
      "  File \"/home/cjung/.pyenv/versions/3.7.12/lib/python3.7/site-packages/keras/utils/traceback_utils.py\", line 67, in error_handler\n",
      "    raise e.with_traceback(filtered_tb) from None\n",
      "  File \"/home/cjung/.pyenv/versions/3.7.12/lib/python3.7/site-packages/keras/backend.py\", line 6069, in pool2d\n",
      "    x, pool_size, strides, padding=padding, data_format=tf_data_format)\n",
      "ValueError: Exception encountered when calling layer \"average_pooling1d_35\" (type AveragePooling1D).\n",
      "\n",
      "Negative dimension size caused by subtracting 5 from 4 for '{{node average_pooling1d_35/AvgPool}} = AvgPool[T=DT_FLOAT, data_format=\"NHWC\", ksize=[1, 5, 1, 1], padding=\"VALID\", strides=[1, 5, 1, 1]](average_pooling1d_35/ExpandDims)' with input shapes: [?,4,1,12].\n",
      "\n",
      "Call arguments received:\n",
      "  • inputs=tf.Tensor(shape=(None, 4, 12), dtype=float32)\n",
      "\n",
      "--------------------------------------------------------------------------------\n",
      "1 fits failed with the following error:\n",
      "Traceback (most recent call last):\n",
      "  File \"/home/cjung/.pyenv/versions/3.7.12/lib/python3.7/site-packages/sklearn/model_selection/_validation.py\", line 680, in _fit_and_score\n",
      "    estimator.fit(X_train, y_train, **fit_params)\n",
      "  File \"/home/cjung/.pyenv/versions/3.7.12/lib/python3.7/site-packages/sktime_dl/deeplearning/cnn/_classifier.py\", line 144, in fit\n",
      "    self.model = self.build_model(self.input_shape, self.nb_classes)\n",
      "  File \"/home/cjung/.pyenv/versions/3.7.12/lib/python3.7/site-packages/sktime_dl/deeplearning/cnn/_classifier.py\", line 85, in build_model\n",
      "    input_layer, output_layer = self.build_network(input_shape, **kwargs)\n",
      "  File \"/home/cjung/.pyenv/versions/3.7.12/lib/python3.7/site-packages/sktime_dl/deeplearning/cnn/_base.py\", line 96, in build_network\n",
      "    conv\n",
      "  File \"/home/cjung/.pyenv/versions/3.7.12/lib/python3.7/site-packages/keras/utils/traceback_utils.py\", line 67, in error_handler\n",
      "    raise e.with_traceback(filtered_tb) from None\n",
      "  File \"/home/cjung/.pyenv/versions/3.7.12/lib/python3.7/site-packages/keras/backend.py\", line 6069, in pool2d\n",
      "    x, pool_size, strides, padding=padding, data_format=tf_data_format)\n",
      "ValueError: Exception encountered when calling layer \"average_pooling1d_37\" (type AveragePooling1D).\n",
      "\n",
      "Negative dimension size caused by subtracting 5 from 4 for '{{node average_pooling1d_37/AvgPool}} = AvgPool[T=DT_FLOAT, data_format=\"NHWC\", ksize=[1, 5, 1, 1], padding=\"VALID\", strides=[1, 5, 1, 1]](average_pooling1d_37/ExpandDims)' with input shapes: [?,4,1,12].\n",
      "\n",
      "Call arguments received:\n",
      "  • inputs=tf.Tensor(shape=(None, 4, 12), dtype=float32)\n",
      "\n",
      "--------------------------------------------------------------------------------\n",
      "1 fits failed with the following error:\n",
      "Traceback (most recent call last):\n",
      "  File \"/home/cjung/.pyenv/versions/3.7.12/lib/python3.7/site-packages/sklearn/model_selection/_validation.py\", line 680, in _fit_and_score\n",
      "    estimator.fit(X_train, y_train, **fit_params)\n",
      "  File \"/home/cjung/.pyenv/versions/3.7.12/lib/python3.7/site-packages/sktime_dl/deeplearning/cnn/_classifier.py\", line 144, in fit\n",
      "    self.model = self.build_model(self.input_shape, self.nb_classes)\n",
      "  File \"/home/cjung/.pyenv/versions/3.7.12/lib/python3.7/site-packages/sktime_dl/deeplearning/cnn/_classifier.py\", line 85, in build_model\n",
      "    input_layer, output_layer = self.build_network(input_shape, **kwargs)\n",
      "  File \"/home/cjung/.pyenv/versions/3.7.12/lib/python3.7/site-packages/sktime_dl/deeplearning/cnn/_base.py\", line 96, in build_network\n",
      "    conv\n",
      "  File \"/home/cjung/.pyenv/versions/3.7.12/lib/python3.7/site-packages/keras/utils/traceback_utils.py\", line 67, in error_handler\n",
      "    raise e.with_traceback(filtered_tb) from None\n",
      "  File \"/home/cjung/.pyenv/versions/3.7.12/lib/python3.7/site-packages/keras/backend.py\", line 6069, in pool2d\n",
      "    x, pool_size, strides, padding=padding, data_format=tf_data_format)\n",
      "ValueError: Exception encountered when calling layer \"average_pooling1d_39\" (type AveragePooling1D).\n",
      "\n",
      "Negative dimension size caused by subtracting 5 from 4 for '{{node average_pooling1d_39/AvgPool}} = AvgPool[T=DT_FLOAT, data_format=\"NHWC\", ksize=[1, 5, 1, 1], padding=\"VALID\", strides=[1, 5, 1, 1]](average_pooling1d_39/ExpandDims)' with input shapes: [?,4,1,12].\n",
      "\n",
      "Call arguments received:\n",
      "  • inputs=tf.Tensor(shape=(None, 4, 12), dtype=float32)\n",
      "\n",
      "--------------------------------------------------------------------------------\n",
      "1 fits failed with the following error:\n",
      "Traceback (most recent call last):\n",
      "  File \"/home/cjung/.pyenv/versions/3.7.12/lib/python3.7/site-packages/sklearn/model_selection/_validation.py\", line 680, in _fit_and_score\n",
      "    estimator.fit(X_train, y_train, **fit_params)\n",
      "  File \"/home/cjung/.pyenv/versions/3.7.12/lib/python3.7/site-packages/sktime_dl/deeplearning/cnn/_classifier.py\", line 144, in fit\n",
      "    self.model = self.build_model(self.input_shape, self.nb_classes)\n",
      "  File \"/home/cjung/.pyenv/versions/3.7.12/lib/python3.7/site-packages/sktime_dl/deeplearning/cnn/_classifier.py\", line 85, in build_model\n",
      "    input_layer, output_layer = self.build_network(input_shape, **kwargs)\n",
      "  File \"/home/cjung/.pyenv/versions/3.7.12/lib/python3.7/site-packages/sktime_dl/deeplearning/cnn/_base.py\", line 96, in build_network\n",
      "    conv\n",
      "  File \"/home/cjung/.pyenv/versions/3.7.12/lib/python3.7/site-packages/keras/utils/traceback_utils.py\", line 67, in error_handler\n",
      "    raise e.with_traceback(filtered_tb) from None\n",
      "  File \"/home/cjung/.pyenv/versions/3.7.12/lib/python3.7/site-packages/keras/backend.py\", line 6069, in pool2d\n",
      "    x, pool_size, strides, padding=padding, data_format=tf_data_format)\n",
      "ValueError: Exception encountered when calling layer \"average_pooling1d_41\" (type AveragePooling1D).\n",
      "\n",
      "Negative dimension size caused by subtracting 5 from 4 for '{{node average_pooling1d_41/AvgPool}} = AvgPool[T=DT_FLOAT, data_format=\"NHWC\", ksize=[1, 5, 1, 1], padding=\"VALID\", strides=[1, 5, 1, 1]](average_pooling1d_41/ExpandDims)' with input shapes: [?,4,1,12].\n",
      "\n",
      "Call arguments received:\n",
      "  • inputs=tf.Tensor(shape=(None, 4, 12), dtype=float32)\n",
      "\n",
      "  warnings.warn(some_fits_failed_message, FitFailedWarning)\n",
      "/home/cjung/.pyenv/versions/3.7.12/lib/python3.7/site-packages/sklearn/model_selection/_search.py:972: UserWarning: One or more of the test scores are non-finite: [0.77692308 0.92527473        nan        nan]\n",
      "  category=UserWarning,\n"
     ]
    },
    {
     "name": "stdout",
     "output_type": "stream",
     "text": [
      "Best cross-validation accuracy: 0.93\n",
      "Test set score: 0.94\n",
      "Best parameters: {'avg_pool_size': 3, 'kernel_size': 9}\n"
     ]
    }
   ],
   "source": [
    "param_grid = {'kernel_size': [7, 9],\n",
    "              'avg_pool_size': [3, 5]}\n",
    "grid = GridSearchCV(network, param_grid=param_grid, cv=5)   \n",
    "grid.fit(X_train, y_train)\n",
    "    \n",
    "print(\"Best cross-validation accuracy: {:.2f}\".format(grid.best_score_))\n",
    "print(\"Test set score: {:.2f}\".format(grid.score(X_test, y_test)))\n",
    "print(\"Best parameters: {}\".format(grid.best_params_))"
   ]
  },
  {
   "cell_type": "code",
   "execution_count": null,
   "metadata": {},
   "outputs": [],
   "source": [
    "y_pred = grid.best_estimator_.predict(X_test)"
   ]
  },
  {
   "cell_type": "code",
   "execution_count": 12,
   "metadata": {},
   "outputs": [],
   "source": [
    "from sklearn.metrics import accuracy_score"
   ]
  },
  {
   "cell_type": "code",
   "execution_count": 13,
   "metadata": {},
   "outputs": [
    {
     "data": {
      "text/plain": [
       "0.9387755102040817"
      ]
     },
     "execution_count": 13,
     "metadata": {},
     "output_type": "execute_result"
    }
   ],
   "source": [
    "accuracy_score(y_test, y_pred)"
   ]
  },
  {
   "cell_type": "code",
   "execution_count": 10,
   "metadata": {},
   "outputs": [
    {
     "data": {
      "image/png": "[encoded data removed]",
      "text/plain": [
       "<Figure size 720x720 with 2 Axes>"
      ]
     },
     "metadata": {},
     "output_type": "display_data"
    }
   ],
   "source": [
    "import matplotlib.pyplot as plt\n",
    "import seaborn as sns\n",
    "import pandas as pd\n",
    "from sklearn.metrics import confusion_matrix\n",
    "\n",
    "def cm_analysis(y_true, y_pred, labels, ymap=None, figsize=(10,10)):\n",
    "    \"\"\"\n",
    "    Generate matrix plot of confusion matrix with pretty annotations.\n",
    "    The plot image is saved to disk.\n",
    "    args: \n",
    "      y_true:    true label of the data, with shape (nsamples,)\n",
    "      y_pred:    prediction of the data, with shape (nsamples,)\n",
    "      filename:  filename of figure file to save\n",
    "      labels:    string array, name the order of class labels in the confusion matrix.\n",
    "                 use `clf.classes_` if using scikit-learn models.\n",
    "                 with shape (nclass,).\n",
    "      ymap:      dict: any -> string, length == nclass.\n",
    "                 if not None, map the labels & ys to more understandable strings.\n",
    "                 Caution: original y_true, y_pred and labels must align.\n",
    "      figsize:   the size of the figure plotted.\n",
    "    \"\"\"\n",
    "    if ymap is not None:\n",
    "        y_pred = [ymap[yi] for yi in y_pred]\n",
    "        y_true = [ymap[yi] for yi in y_true]\n",
    "        labels = [ymap[yi] for yi in labels]\n",
    "    cm = confusion_matrix(y_true, y_pred, labels=labels)\n",
    "    cm_sum = np.sum(cm, axis=1, keepdims=True)\n",
    "    cm_perc = cm / cm_sum.astype(float) * 100\n",
    "    annot = np.empty_like(cm).astype(str)\n",
    "    nrows, ncols = cm.shape\n",
    "    for i in range(nrows):\n",
    "        for j in range(ncols):\n",
    "            c = cm[i, j]\n",
    "            p = cm_perc[i, j]\n",
    "            if i == j:\n",
    "                s = cm_sum[i]\n",
    "                annot[i, j] = '%.1f%%\\n%d/%d' % (p, c, s)\n",
    "            elif c == 0:\n",
    "                annot[i, j] = ''\n",
    "            else:\n",
    "                annot[i, j] = '%.1f%%\\n%d' % (p, c)\n",
    "    cm = pd.DataFrame(cm, index=labels, columns=labels)\n",
    "    cm.index.name = 'Actual'\n",
    "    cm.columns.name = 'Predicted'\n",
    "    fig, ax = plt.subplots(figsize=figsize)\n",
    "    sns.heatmap(cm, annot=annot, fmt='', ax=ax)\n",
    "    #plt.savefig(filename)\n",
    "    plt.show()\n",
    "\n",
    "cm_analysis(y_test, y_pred, network.classes_, ymap=None, figsize=(10,10))"
   ]
  }
 ],
 "metadata": {
  "interpreter": {
   "hash": "075f91e4abfd5cd8f9668cc4f684c3d65a47d97c7b87afae93332b37f715707e"
  },
  "kernelspec": {
   "display_name": "Python 3.7.12 64-bit ('3.7.12')",
   "language": "python",
   "name": "python3"
  },
  "language_info": {
   "codemirror_mode": {
    "name": "ipython",
    "version": 3
   },
   "file_extension": ".py",
   "mimetype": "text/x-python",
   "name": "python",
   "nbconvert_exporter": "python",
   "pygments_lexer": "ipython3",
   "version": "3.7.12"
  },
  "orig_nbformat": 4
 },
 "nbformat": 4,
 "nbformat_minor": 2
}
