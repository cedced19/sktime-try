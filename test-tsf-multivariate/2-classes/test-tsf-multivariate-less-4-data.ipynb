{
 "cells": [
  {
   "cell_type": "markdown",
   "metadata": {},
   "source": [
    "# Test TimeSeriesForest\n",
    "\n",
    "## Importation"
   ]
  },
  {
   "cell_type": "code",
   "execution_count": 45,
   "metadata": {},
   "outputs": [],
   "source": [
    "from os import listdir\n",
    "from os.path import isfile, join\n",
    "import pandas as pd\n",
    "import numpy as np"
   ]
  },
  {
   "cell_type": "code",
   "execution_count": 46,
   "metadata": {},
   "outputs": [
    {
     "data": {
      "text/plain": [
       "[1, 3, 5, 7]"
      ]
     },
     "execution_count": 46,
     "metadata": {},
     "output_type": "execute_result"
    }
   ],
   "source": [
    "def downsample(L, n):\n",
    "    return [x for i,x in enumerate(L) if i%n ==0]\n",
    "downsample([1,2,3,4,5,6,7,8],2)"
   ]
  },
  {
   "cell_type": "code",
   "execution_count": 47,
   "metadata": {},
   "outputs": [],
   "source": [
    "data_path = \"../../../residuals-fault-detection/data/\"\n",
    "categories = listdir(data_path)\n",
    "X = pd.DataFrame()\n",
    "Y = []\n",
    "for cat in categories:\n",
    "    tmp = join(data_path, cat)\n",
    "    files = [f for f in listdir(tmp) if isfile(join(tmp, f))]\n",
    "    n_samples = 45\n",
    "    if cat == 'fault_less':\n",
    "        n_samples*= 11\n",
    "    else:\n",
    "        cat = 'fault'\n",
    "    for i in range(min(len(files),n_samples)):\n",
    "        file = files[i]\n",
    "        serie = pd.read_csv(join(tmp, file), names=['t', 'i', 'w'])\n",
    "        i_data=downsample(serie[['i']].values.flatten(),15)\n",
    "        w_data=downsample(serie[['w']].values.flatten(),15)\n",
    "        d = {'i': [pd.Series(i_data, copy=False)], 'w': [pd.Series(w_data, copy=False)]}\n",
    "        df_tmp = pd.DataFrame(data=d)\n",
    "        X = pd.concat([X, df_tmp], ignore_index = True)\n",
    "        Y.append(cat)\n",
    "\n",
    "Y = np.array(Y)"
   ]
  },
  {
   "cell_type": "code",
   "execution_count": 48,
   "metadata": {},
   "outputs": [
    {
     "data": {
      "text/html": [
       "<div>\n",
       "<style scoped>\n",
       "    .dataframe tbody tr th:only-of-type {\n",
       "        vertical-align: middle;\n",
       "    }\n",
       "\n",
       "    .dataframe tbody tr th {\n",
       "        vertical-align: top;\n",
       "    }\n",
       "\n",
       "    .dataframe thead th {\n",
       "        text-align: right;\n",
       "    }\n",
       "</style>\n",
       "<table border=\"1\" class=\"dataframe\">\n",
       "  <thead>\n",
       "    <tr style=\"text-align: right;\">\n",
       "      <th></th>\n",
       "      <th>i</th>\n",
       "      <th>w</th>\n",
       "    </tr>\n",
       "  </thead>\n",
       "  <tbody>\n",
       "    <tr>\n",
       "      <th>0</th>\n",
       "      <td>0      0.043661\n",
       "1     35.388852\n",
       "2     31.92146...</td>\n",
       "      <td>0     -0.113491\n",
       "1     15.714004\n",
       "2     24.49201...</td>\n",
       "    </tr>\n",
       "    <tr>\n",
       "      <th>1</th>\n",
       "      <td>0     -0.092780\n",
       "1     35.364748\n",
       "2     31.97551...</td>\n",
       "      <td>0      0.060203\n",
       "1     15.755528\n",
       "2     24.50619...</td>\n",
       "    </tr>\n",
       "    <tr>\n",
       "      <th>2</th>\n",
       "      <td>0      0.093331\n",
       "1     35.457204\n",
       "2     32.07400...</td>\n",
       "      <td>0      0.038985\n",
       "1     15.525533\n",
       "2     24.43072...</td>\n",
       "    </tr>\n",
       "    <tr>\n",
       "      <th>3</th>\n",
       "      <td>0      0.025564\n",
       "1     35.399243\n",
       "2     32.08137...</td>\n",
       "      <td>0      0.095591\n",
       "1     15.646874\n",
       "2     24.60905...</td>\n",
       "    </tr>\n",
       "    <tr>\n",
       "      <th>4</th>\n",
       "      <td>0      0.032729\n",
       "1     35.382107\n",
       "2     31.99763...</td>\n",
       "      <td>0     -0.069286\n",
       "1     15.612040\n",
       "2     24.52444...</td>\n",
       "    </tr>\n",
       "  </tbody>\n",
       "</table>\n",
       "</div>"
      ],
      "text/plain": [
       "                                                   i  \\\n",
       "0  0      0.043661\n",
       "1     35.388852\n",
       "2     31.92146...   \n",
       "1  0     -0.092780\n",
       "1     35.364748\n",
       "2     31.97551...   \n",
       "2  0      0.093331\n",
       "1     35.457204\n",
       "2     32.07400...   \n",
       "3  0      0.025564\n",
       "1     35.399243\n",
       "2     32.08137...   \n",
       "4  0      0.032729\n",
       "1     35.382107\n",
       "2     31.99763...   \n",
       "\n",
       "                                                   w  \n",
       "0  0     -0.113491\n",
       "1     15.714004\n",
       "2     24.49201...  \n",
       "1  0      0.060203\n",
       "1     15.755528\n",
       "2     24.50619...  \n",
       "2  0      0.038985\n",
       "1     15.525533\n",
       "2     24.43072...  \n",
       "3  0      0.095591\n",
       "1     15.646874\n",
       "2     24.60905...  \n",
       "4  0     -0.069286\n",
       "1     15.612040\n",
       "2     24.52444...  "
      ]
     },
     "execution_count": 48,
     "metadata": {},
     "output_type": "execute_result"
    }
   ],
   "source": [
    "X.head()"
   ]
  },
  {
   "cell_type": "code",
   "execution_count": 49,
   "metadata": {},
   "outputs": [
    {
     "data": {
      "text/plain": [
       "array(['fault', 'fault', 'fault', 'fault', 'fault'], dtype='<U10')"
      ]
     },
     "execution_count": 49,
     "metadata": {},
     "output_type": "execute_result"
    }
   ],
   "source": [
    "Y[:5]"
   ]
  },
  {
   "cell_type": "markdown",
   "metadata": {},
   "source": [
    "## Entrainement du modèle"
   ]
  },
  {
   "cell_type": "code",
   "execution_count": 50,
   "metadata": {},
   "outputs": [],
   "source": [
    "\n",
    "from sktime.classification.interval_based import TimeSeriesForestClassifier\n",
    "from sklearn.model_selection import train_test_split\n",
    "from sklearn.metrics import accuracy_score\n",
    "from sktime.classification.compose import ColumnEnsembleClassifier"
   ]
  },
  {
   "cell_type": "code",
   "execution_count": 51,
   "metadata": {},
   "outputs": [],
   "source": [
    "X_train, X_test, y_train, y_test = train_test_split(X, Y)"
   ]
  },
  {
   "cell_type": "code",
   "execution_count": 52,
   "metadata": {},
   "outputs": [
    {
     "data": {
      "text/plain": [
       "ColumnEnsembleClassifier(estimators=[('TSF 1', TimeSeriesForestClassifier(),\n",
       "                                      [0]),\n",
       "                                     ('TSF 2', TimeSeriesForestClassifier(),\n",
       "                                      [1])])"
      ]
     },
     "execution_count": 52,
     "metadata": {},
     "output_type": "execute_result"
    }
   ],
   "source": [
    "tsf = TimeSeriesForestClassifier()\n",
    "estimators = [(\"TSF 1\", tsf, [0]),(\"TSF 2\", tsf, [1])]\n",
    "classifier = ColumnEnsembleClassifier(estimators=estimators)\n",
    "classifier.fit(X_train, y_train)"
   ]
  },
  {
   "cell_type": "markdown",
   "metadata": {},
   "source": [
    "Cela a pris 1min de compilation."
   ]
  },
  {
   "cell_type": "markdown",
   "metadata": {},
   "source": [
    "## Evaluation"
   ]
  },
  {
   "cell_type": "code",
   "execution_count": 53,
   "metadata": {},
   "outputs": [
    {
     "name": "stdout",
     "output_type": "stream",
     "text": [
      "0.7741935483870968\n"
     ]
    }
   ],
   "source": [
    "y_pred = classifier.predict(X_test)\n",
    "print(accuracy_score(y_test, y_pred))"
   ]
  },
  {
   "cell_type": "code",
   "execution_count": 54,
   "metadata": {},
   "outputs": [],
   "source": [
    "labels = classifier.classes_"
   ]
  },
  {
   "cell_type": "code",
   "execution_count": 55,
   "metadata": {},
   "outputs": [
    {
     "data": {
      "image/png": "[encoded data removed]",
      "text/plain": [
       "<Figure size 720x720 with 2 Axes>"
      ]
     },
     "metadata": {
      "needs_background": "light"
     },
     "output_type": "display_data"
    }
   ],
   "source": [
    "import matplotlib.pyplot as plt\n",
    "import seaborn as sns\n",
    "from sklearn.metrics import confusion_matrix\n",
    "\n",
    "def cm_analysis(y_true, y_pred, labels, ymap=None, figsize=(10,10)):\n",
    "    \"\"\"\n",
    "    Generate matrix plot of confusion matrix with pretty annotations.\n",
    "    The plot image is saved to disk.\n",
    "    args: \n",
    "      y_true:    true label of the data, with shape (nsamples,)\n",
    "      y_pred:    prediction of the data, with shape (nsamples,)\n",
    "      filename:  filename of figure file to save\n",
    "      labels:    string array, name the order of class labels in the confusion matrix.\n",
    "                 use `clf.classes_` if using scikit-learn models.\n",
    "                 with shape (nclass,).\n",
    "      ymap:      dict: any -> string, length == nclass.\n",
    "                 if not None, map the labels & ys to more understandable strings.\n",
    "                 Caution: original y_true, y_pred and labels must align.\n",
    "      figsize:   the size of the figure plotted.\n",
    "    \"\"\"\n",
    "    if ymap is not None:\n",
    "        y_pred = [ymap[yi] for yi in y_pred]\n",
    "        y_true = [ymap[yi] for yi in y_true]\n",
    "        labels = [ymap[yi] for yi in labels]\n",
    "    cm = confusion_matrix(y_true, y_pred, labels=labels)\n",
    "    cm_sum = np.sum(cm, axis=1, keepdims=True)\n",
    "    cm_perc = cm / cm_sum.astype(float) * 100\n",
    "    annot = np.empty_like(cm).astype(str)\n",
    "    nrows, ncols = cm.shape\n",
    "    for i in range(nrows):\n",
    "        for j in range(ncols):\n",
    "            c = cm[i, j]\n",
    "            p = cm_perc[i, j]\n",
    "            if i == j:\n",
    "                s = cm_sum[i]\n",
    "                annot[i, j] = '%.1f%%\\n%d/%d' % (p, c, s)\n",
    "            elif c == 0:\n",
    "                annot[i, j] = ''\n",
    "            else:\n",
    "                annot[i, j] = '%.1f%%\\n%d' % (p, c)\n",
    "    cm = pd.DataFrame(cm, index=labels, columns=labels)\n",
    "    cm.index.name = 'Actual'\n",
    "    cm.columns.name = 'Predicted'\n",
    "    fig, ax = plt.subplots(figsize=figsize)\n",
    "    sns.heatmap(cm, annot=annot, fmt='', ax=ax)\n",
    "    #plt.savefig(filename)\n",
    "    plt.show()\n",
    "\n",
    "cm_analysis(y_test, y_pred, classifier.classes_, ymap=None, figsize=(10,10))"
   ]
  }
 ],
 "metadata": {
  "interpreter": {
   "hash": "075f91e4abfd5cd8f9668cc4f684c3d65a47d97c7b87afae93332b37f715707e"
  },
  "kernelspec": {
   "display_name": "Python 3.7.12 64-bit ('3.7.12')",
   "language": "python",
   "name": "python3"
  },
  "language_info": {
   "codemirror_mode": {
    "name": "ipython",
    "version": 3
   },
   "file_extension": ".py",
   "mimetype": "text/x-python",
   "name": "python",
   "nbconvert_exporter": "python",
   "pygments_lexer": "ipython3",
   "version": "3.9.7"
  },
  "orig_nbformat": 4
 },
 "nbformat": 4,
 "nbformat_minor": 2
}
