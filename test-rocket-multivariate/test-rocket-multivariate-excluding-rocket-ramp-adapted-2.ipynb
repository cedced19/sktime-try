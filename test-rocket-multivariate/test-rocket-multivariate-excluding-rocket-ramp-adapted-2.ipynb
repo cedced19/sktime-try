{
 "cells": [
  {
   "cell_type": "markdown",
   "metadata": {},
   "source": [
    "# Test MultiROCKET\n",
    "\n",
    "## Importation"
   ]
  },
  {
   "cell_type": "code",
   "execution_count": 38,
   "metadata": {},
   "outputs": [],
   "source": [
    "from os import listdir\n",
    "from os.path import isfile, join\n",
    "import pandas as pd\n",
    "import numpy as np"
   ]
  },
  {
   "cell_type": "code",
   "execution_count": 39,
   "metadata": {},
   "outputs": [],
   "source": [
    "data_path = \"../../residuals-fault-detection/feedback/data/\"\n",
    "categories = listdir(data_path)\n",
    "excluded_fault = ['mechanical_friction_fault', 'voltage_input_fault', 'controller_fault', 'electrical_resistance_fault', 'unlock_fault', 'fault_inside_uncert_rm', 'fault_outside_uncert_rm']\n",
    "X = pd.DataFrame()\n",
    "Y = []\n",
    "for cat in categories:\n",
    "    if (not (cat in excluded_fault)):\n",
    "        tmp = join(data_path, cat)\n",
    "        files = [f for f in listdir(tmp) if isfile(join(tmp, f))]\n",
    "        for i in range(len(files)):\n",
    "            file = files[i]\n",
    "            serie = pd.read_csv(join(tmp, file), names=['t', 'i', 'w', 'Xsr'])\n",
    "            i_data=serie[['i']].values.flatten()\n",
    "            w_data=serie[['w']].values.flatten()\n",
    "            xsr_data=serie[['Xsr']].values.flatten()\n",
    "            d = {'i': [pd.Series(i_data, copy=False)], 'w': [pd.Series(w_data, copy=False)], 'Xsr': [pd.Series(xsr_data, copy=False)]}\n",
    "            df_tmp = pd.DataFrame(data=d)\n",
    "            X = pd.concat([X, df_tmp], ignore_index = True)\n",
    "            Y.append(cat)\n",
    "\n",
    "Y = np.array(Y)"
   ]
  },
  {
   "cell_type": "code",
   "execution_count": 40,
   "metadata": {},
   "outputs": [],
   "source": [
    "import matplotlib.pyplot as plt\n",
    "from math import *\n",
    "def why_excluding(categories, data_path):\n",
    "    categories.append('fault_less')\n",
    "    fig,ax = plt.subplots(ncols=3,nrows=ceil(len(categories)),figsize=(15,8))\n",
    "    fig.tight_layout(h_pad=0.2)\n",
    "    for i, val in enumerate(categories):\n",
    "        cat = categories[i]\n",
    "        \n",
    "\n",
    "        tmp = join(data_path, cat)\n",
    "        files = [f for f in listdir(tmp) if isfile(join(tmp, f))]\n",
    "        file = files[0] # random.choice(files)\n",
    "        data = np.genfromtxt(join(tmp, file), delimiter=',')\n",
    "\n",
    "        row = floor(i)\n",
    "        col = 0\n",
    "\n",
    "        title_obj1 = ax[row,col].set_title(cat)\n",
    "        line1, = ax[row,col].plot(data[:, 0], data[:, 1], label='r')\n",
    "        line2, = ax[row,col].plot(data[:, 0], data[:, 2], label='g')\n",
    "        ax[row,col].legend([line1, line2], ['Current', 'Angular velocity'])\n",
    "        if (cat == 'fault_less'):\n",
    "            plt.setp(title_obj1,color='g')\n",
    "\n",
    "\n",
    "        title_obj2 = ax[row,col+1].set_title(cat)\n",
    "        line1, = ax[row,col+1].plot(data[:, 0], data[:, 3], label='b')\n",
    "        ax[row,col+1].legend([line1], ['Switch rail displacement'])\n",
    "        if (cat == 'fault_less'):\n",
    "            plt.setp(title_obj2,color='g')\n",
    "\n",
    "        title_obj3 = ax[row,col+2].set_title(cat)\n",
    "        line1, = ax[row,col+2].plot(data[:, 0], data[:, 4], label='b')\n",
    "        ax[row,col+2].legend([line1], ['Switch rail force'])\n",
    "        if (cat == 'fault_less'):\n",
    "            plt.setp(title_obj3,color='g')\n",
    "    plt.show()\n",
    "#why_excluding(['force_sensor_fault', 'switch_rail_friction_fault', 'current_sensor_fault'], data_path)"
   ]
  },
  {
   "cell_type": "markdown",
   "metadata": {},
   "source": [
    "## Entrainement du modèle"
   ]
  },
  {
   "cell_type": "code",
   "execution_count": 41,
   "metadata": {},
   "outputs": [],
   "source": [
    "\n",
    "from sklearn.model_selection import train_test_split\n",
    "from sklearn.metrics import accuracy_score\n",
    "\n",
    "from sktime.transformations.panel.rocket import Rocket\n",
    "from sklearn.preprocessing import StandardScaler\n",
    "from sklearn.metrics import accuracy_score\n",
    "from sklearn.linear_model import RidgeClassifierCV\n",
    "from sklearn.pipeline import make_pipeline\n",
    "from sktime.classification.compose import ColumnEnsembleClassifier"
   ]
  },
  {
   "cell_type": "code",
   "execution_count": 42,
   "metadata": {},
   "outputs": [],
   "source": [
    "X_train, X_test, y_train, y_test = train_test_split(X, Y)"
   ]
  },
  {
   "cell_type": "code",
   "execution_count": 43,
   "metadata": {},
   "outputs": [],
   "source": [
    "rocket = Rocket()  # by default, ROCKET uses 10,000 kernels\n",
    "rocket.fit(X_train)\n",
    "X_train_transform = rocket.transform(X_train)"
   ]
  },
  {
   "cell_type": "code",
   "execution_count": 44,
   "metadata": {},
   "outputs": [
    {
     "data": {
      "text/plain": [
       "Pipeline(steps=[('standardscaler', StandardScaler(with_mean=False)),\n",
       "                ('ridgeclassifiercv',\n",
       "                 RidgeClassifierCV(alphas=array([   1000.        ,    2154.43469003,    4641.58883361,\n",
       "         10000.        ,   21544.34690032,   46415.88833613,\n",
       "        100000.        ,  215443.46900319,  464158.88336128,\n",
       "       1000000.        ])))])"
      ]
     },
     "execution_count": 44,
     "metadata": {},
     "output_type": "execute_result"
    }
   ],
   "source": [
    "classifier = make_pipeline(\n",
    "    StandardScaler(with_mean=False), RidgeClassifierCV(alphas=np.logspace(3, 6, 10))\n",
    ")\n",
    "classifier.fit(X_train_transform, y_train)"
   ]
  },
  {
   "cell_type": "markdown",
   "metadata": {},
   "source": [
    "Cela a pris 9min de d'entraînement."
   ]
  },
  {
   "cell_type": "code",
   "execution_count": 46,
   "metadata": {},
   "outputs": [
    {
     "data": {
      "text/plain": [
       "1000000.0"
      ]
     },
     "execution_count": 46,
     "metadata": {},
     "output_type": "execute_result"
    }
   ],
   "source": [
    "classifier[1].alpha_"
   ]
  },
  {
   "cell_type": "markdown",
   "metadata": {},
   "source": [
    "## Evaluation"
   ]
  },
  {
   "cell_type": "code",
   "execution_count": 47,
   "metadata": {},
   "outputs": [],
   "source": [
    "X_test_transform = rocket.transform(X_test)\n",
    "y_pred = classifier.predict(X_test_transform)"
   ]
  },
  {
   "cell_type": "code",
   "execution_count": 48,
   "metadata": {},
   "outputs": [
    {
     "data": {
      "text/plain": [
       "0.208"
      ]
     },
     "execution_count": 48,
     "metadata": {},
     "output_type": "execute_result"
    }
   ],
   "source": [
    "\n",
    "accuracy_score(y_test, y_pred)"
   ]
  },
  {
   "cell_type": "code",
   "execution_count": 49,
   "metadata": {},
   "outputs": [],
   "source": [
    "labels = classifier.classes_"
   ]
  },
  {
   "cell_type": "code",
   "execution_count": 50,
   "metadata": {},
   "outputs": [
    {
     "data": {
      "image/png": "[encoded data removed]",
      "text/plain": [
       "<Figure size 720x720 with 2 Axes>"
      ]
     },
     "metadata": {
      "needs_background": "light"
     },
     "output_type": "display_data"
    }
   ],
   "source": [
    "import matplotlib.pyplot as plt\n",
    "import seaborn as sns\n",
    "from sklearn.metrics import confusion_matrix\n",
    "\n",
    "def cm_analysis(y_true, y_pred, labels, ymap=None, figsize=(10,10)):\n",
    "    \"\"\"\n",
    "    Generate matrix plot of confusion matrix with pretty annotations.\n",
    "    The plot image is saved to disk.\n",
    "    args: \n",
    "      y_true:    true label of the data, with shape (nsamples,)\n",
    "      y_pred:    prediction of the data, with shape (nsamples,)\n",
    "      filename:  filename of figure file to save\n",
    "      labels:    string array, name the order of class labels in the confusion matrix.\n",
    "                 use `clf.classes_` if using scikit-learn models.\n",
    "                 with shape (nclass,).\n",
    "      ymap:      dict: any -> string, length == nclass.\n",
    "                 if not None, map the labels & ys to more understandable strings.\n",
    "                 Caution: original y_true, y_pred and labels must align.\n",
    "      figsize:   the size of the figure plotted.\n",
    "    \"\"\"\n",
    "    if ymap is not None:\n",
    "        y_pred = [ymap[yi] for yi in y_pred]\n",
    "        y_true = [ymap[yi] for yi in y_true]\n",
    "        labels = [ymap[yi] for yi in labels]\n",
    "    cm = confusion_matrix(y_true, y_pred, labels=labels)\n",
    "    cm_sum = np.sum(cm, axis=1, keepdims=True)\n",
    "    cm_perc = cm / cm_sum.astype(float) * 100\n",
    "    annot = np.empty_like(cm).astype(str)\n",
    "    nrows, ncols = cm.shape\n",
    "    for i in range(nrows):\n",
    "        for j in range(ncols):\n",
    "            c = cm[i, j]\n",
    "            p = cm_perc[i, j]\n",
    "            if i == j:\n",
    "                s = cm_sum[i]\n",
    "                annot[i, j] = '%.1f%%\\n%d/%d' % (p, c, s)\n",
    "            elif c == 0:\n",
    "                annot[i, j] = ''\n",
    "            else:\n",
    "                annot[i, j] = '%.1f%%\\n%d' % (p, c)\n",
    "    cm = pd.DataFrame(cm, index=labels, columns=labels)\n",
    "    cm.index.name = 'Actual'\n",
    "    cm.columns.name = 'Predicted'\n",
    "    fig, ax = plt.subplots(figsize=figsize)\n",
    "    sns.heatmap(cm, annot=annot, fmt='', ax=ax)\n",
    "    #plt.savefig(filename)\n",
    "    plt.show()\n",
    "\n",
    "cm_analysis(y_test, y_pred, classifier.classes_, ymap=None, figsize=(10,10))"
   ]
  }
 ],
 "metadata": {
  "interpreter": {
   "hash": "075f91e4abfd5cd8f9668cc4f684c3d65a47d97c7b87afae93332b37f715707e"
  },
  "kernelspec": {
   "display_name": "Python 3.7.12 64-bit ('3.7.12')",
   "language": "python",
   "name": "python3"
  },
  "language_info": {
   "codemirror_mode": {
    "name": "ipython",
    "version": 3
   },
   "file_extension": ".py",
   "mimetype": "text/x-python",
   "name": "python",
   "nbconvert_exporter": "python",
   "pygments_lexer": "ipython3",
   "version": "3.9.7"
  },
  "orig_nbformat": 4
 },
 "nbformat": 4,
 "nbformat_minor": 2
}
